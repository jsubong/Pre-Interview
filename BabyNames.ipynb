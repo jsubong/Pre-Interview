{
 "cells": [
  {
   "cell_type": "code",
   "execution_count": 2,
   "metadata": {},
   "outputs": [],
   "source": [
    "import os\n",
    "import glob\n",
    "import pandas as pd"
   ]
  },
  {
   "cell_type": "code",
   "execution_count": 13,
   "metadata": {},
   "outputs": [],
   "source": [
    "os.chdir(r\"C:\\Users\\Subong\\Desktop\\Pre-interview\\Name\")"
   ]
  },
  {
   "cell_type": "code",
   "execution_count": 14,
   "metadata": {},
   "outputs": [],
   "source": [
    "filenames = [i for i in glob.glob(\"*.txt\")]"
   ]
  },
  {
   "cell_type": "code",
   "execution_count": 16,
   "metadata": {},
   "outputs": [],
   "source": [
    "df=[pd.read_csv(file,sep=\",\",header=None) for file in filenames]"
   ]
  },
  {
   "cell_type": "code",
   "execution_count": 17,
   "metadata": {},
   "outputs": [],
   "source": [
    "All_babynames=pd.concat(df)\n",
    "All_babynames=All_babynames.reset_index(drop=True)"
   ]
  },
  {
   "cell_type": "code",
   "execution_count": 18,
   "metadata": {},
   "outputs": [],
   "source": [
    "All_babynames.columns=['State','Gender','Year','Name','Number']"
   ]
  },
  {
   "cell_type": "code",
   "execution_count": 23,
   "metadata": {},
   "outputs": [],
   "source": [
    "#Popular_BabyNames=All_babynames.groupby('Name')['Number'].sum()\n",
    "#Popular_BabyNames.columns=['Name','Number']\n",
    "Popular_BabyNames=All_babynames.groupby('Name').sum().reset_index()\n",
    "del Popular_BabyNames[\"Year\"]"
   ]
  },
  {
   "cell_type": "code",
   "execution_count": 21,
   "metadata": {},
   "outputs": [
    {
     "name": "stdout",
     "output_type": "stream",
     "text": [
      "Name        James\n",
      "Number    5029035\n",
      "Name: 13129, dtype: object\n"
     ]
    }
   ],
   "source": [
    "Popular_BabyNames=Popular_BabyNames.sort_values('Number',ascending=False)\n",
    "Most_Popular=Popular_BabyNames.iloc[0]\n",
    "print(Most_Popular)"
   ]
  },
  {
   "cell_type": "code",
   "execution_count": 22,
   "metadata": {},
   "outputs": [
    {
     "name": "stdout",
     "output_type": "stream",
     "text": [
      "Most Ambiguous for 2013:\n",
      "Name         Emma\n",
      "Number_x    20950\n",
      "Number_y        5\n",
      "Total       20955\n",
      "Name: 164, dtype: object\n",
      "Most Ambiguous for 1945:\n",
      "Name        James\n",
      "Number_x      206\n",
      "Number_y    74455\n",
      "Total       74661\n",
      "Name: 100, dtype: object\n"
     ]
    }
   ],
   "source": [
    "#Question 3\n",
    "BabyNames2013=All_babynames.loc[All_babynames['Year']==2013]\n",
    "\n",
    "\n",
    "\n",
    "Baby2013Female=BabyNames2013.loc[BabyNames2013['Gender']=='F']\n",
    "Baby2013Male=BabyNames2013.loc[BabyNames2013['Gender']=='M']\n",
    "\n",
    "Baby2013Female=Baby2013Female.groupby('Name').sum().reset_index()\n",
    "del Baby2013Female[\"Year\"]\n",
    "\n",
    "Baby2013Male=Baby2013Male.groupby('Name').sum().reset_index()\n",
    "del Baby2013Male[\"Year\"]\n",
    "\n",
    "Merged2013=Baby2013Female.merge(Baby2013Male,left_on='Name',right_on='Name')\n",
    "Merged2013[\"Total\"]=Merged2013[\"Number_x\"]+Merged2013[\"Number_y\"]\n",
    "Merged2013=Merged2013.sort_values('Total',ascending=False)\n",
    "\n",
    "Most_Ambiguous_2013=Merged2013.iloc[0]\n",
    "print(\"Most Ambiguous for 2013:\")\n",
    "print(Most_Ambiguous_2013)\n",
    "\n",
    "\n",
    "#1945\n",
    "BabyNames1945=All_babynames.loc[All_babynames['Year']==1945]\n",
    "\n",
    "\n",
    "\n",
    "Baby1945Female=BabyNames1945.loc[BabyNames1945['Gender']=='F']\n",
    "Baby1945Male=BabyNames1945.loc[BabyNames1945['Gender']=='M']\n",
    "\n",
    "Baby1945Female=Baby1945Female.groupby('Name').sum().reset_index()\n",
    "del Baby1945Female[\"Year\"]\n",
    "\n",
    "Baby1945Male=Baby1945Male.groupby('Name').sum().reset_index()\n",
    "del Baby1945Male[\"Year\"]\n",
    "\n",
    "Merged1945=Baby1945Female.merge(Baby1945Male,left_on='Name',right_on='Name')\n",
    "Merged1945[\"Total\"]=Merged1945[\"Number_x\"]+Merged1945[\"Number_y\"]\n",
    "Merged1945=Merged1945.sort_values('Total',ascending=False)\n",
    "Most_Ambiguous_1945=Merged1945.iloc[0]\n",
    "print(\"Most Ambiguous for 1945:\")\n",
    "print(Most_Ambiguous_1945)"
   ]
  },
  {
   "cell_type": "code",
   "execution_count": 81,
   "metadata": {},
   "outputs": [
    {
     "name": "stdout",
     "output_type": "stream",
     "text": [
      "Name that has had the largest increase in popularity:\n",
      "Name         Mateo\n",
      "Number_x         6\n",
      "Number_y      8954\n",
      "Growth      149133\n",
      "Name: 2059, dtype: object\n",
      "Name that has had the largest decrease in popularity:\n",
      "Name        Kristin\n",
      "Number_x       7731\n",
      "Number_y          9\n",
      "Growth     -99.8836\n",
      "Name: 1731, dtype: object\n"
     ]
    }
   ],
   "source": [
    "#Question 4\n",
    "\n",
    "BabyNames2019=All_babynames.loc[All_babynames['Year']==2019]\n",
    "BabyNames1980=All_babynames.loc[All_babynames['Year']==1980]\n",
    "\n",
    "Percent_Growth=pd.DataFrame(columns=[\"Name\",\"Percent\"])\n",
    "\n",
    "BabyNames2019=BabyNames2019.groupby('Name').sum().reset_index()\n",
    "del BabyNames2019[\"Year\"]\n",
    "\n",
    "BabyNames1980=BabyNames1980.groupby('Name').sum().reset_index()\n",
    "del BabyNames1980[\"Year\"]\n",
    "\n",
    "MergedYears=BabyNames1980.merge(BabyNames2019,left_on='Name',right_on='Name')\n",
    "MergedYears[\"Growth\"]=((MergedYears[\"Number_y\"]-MergedYears[\"Number_x\"])/MergedYears[\"Number_x\"])*100\n",
    "MergedYears=MergedYears.sort_values('Growth',ascending=False)\n",
    "Largest_Increase=MergedYears.iloc[0]\n",
    "Largest_Decrease=MergedYears.iloc[-1]\n",
    "print(\"Name that has had the largest increase in popularity:\")\n",
    "print(Largest_Increase)\n",
    "print(\"Name that has had the largest decrease in popularity:\")\n",
    "print(Largest_Decrease)"
   ]
  },
  {
   "cell_type": "code",
   "execution_count": 26,
   "metadata": {},
   "outputs": [
    {
     "name": "stdout",
     "output_type": "stream",
     "text": [
      "Name that has had the largest increase in popularity:\n",
      "Name         Caleb\n",
      "Number_x         5\n",
      "Number_y      6345\n",
      "Growth      126800\n",
      "Name: 240, dtype: object\n",
      "Name that has had the largest decrease in popularity:\n",
      "Name        Mildred\n",
      "Number_x      17297\n",
      "Number_y         15\n",
      "Growth     -99.9133\n",
      "Name: 1195, dtype: object\n"
     ]
    }
   ],
   "source": [
    "#Question 5\n",
    "\n",
    "BabyNames2019=All_babynames.loc[All_babynames['Year']==2019]\n",
    "BabyNames1919=All_babynames.loc[All_babynames['Year']==1919]\n",
    "\n",
    "Percent_Growth=pd.DataFrame(columns=[\"Name\",\"Percent\"])\n",
    "\n",
    "BabyNames2019=BabyNames2019.groupby('Name').sum().reset_index()\n",
    "del BabyNames2019[\"Year\"]\n",
    "\n",
    "BabyNames1919=BabyNames1919.groupby('Name').sum().reset_index()\n",
    "del BabyNames1919[\"Year\"]\n",
    "\n",
    "MergedYears=BabyNames1919.merge(BabyNames2019,left_on='Name',right_on='Name')\n",
    "MergedYears[\"Growth\"]=((MergedYears[\"Number_y\"]-MergedYears[\"Number_x\"])/MergedYears[\"Number_x\"])*100\n",
    "MergedYears=MergedYears.sort_values('Growth',ascending=False)\n",
    "Largest_Increase=MergedYears.iloc[0]\n",
    "Largest_Decrease=MergedYears.iloc[-1]\n",
    "print(\"Name that has had the largest increase in popularity:\")\n",
    "print(Largest_Increase)\n",
    "print(\"Name that has had the largest decrease in popularity:\")\n",
    "print(Largest_Decrease)"
   ]
  }
 ],
 "metadata": {
  "kernelspec": {
   "display_name": "Python 3",
   "language": "python",
   "name": "python3"
  },
  "language_info": {
   "codemirror_mode": {
    "name": "ipython",
    "version": 3
   },
   "file_extension": ".py",
   "mimetype": "text/x-python",
   "name": "python",
   "nbconvert_exporter": "python",
   "pygments_lexer": "ipython3",
   "version": "3.8.5"
  }
 },
 "nbformat": 4,
 "nbformat_minor": 2
}
